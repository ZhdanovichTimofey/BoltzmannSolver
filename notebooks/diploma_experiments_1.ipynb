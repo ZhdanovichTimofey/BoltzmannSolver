{
 "cells": [
  {
   "cell_type": "markdown",
   "source": [
    "**План работы над дипломом:**\n",
    "\n",
    "1. Сделать и описать физическую модель задачи\n",
    "2. Реализовать грубую модель в коде\n",
    "3. Получить результаты вычислений по грубой модели\n",
    "4. Улучшить модель\n",
    "5. Получить результаты обновленной модели\n",
    "\n",
    "Фоновая задача: найти статьи по теме диплома"
   ],
   "metadata": {
    "collapsed": false
   },
   "id": "7ccfaafa3a94f48b"
  },
  {
   "cell_type": "code",
   "execution_count": 468,
   "outputs": [],
   "source": [
    "import numpy as np\n",
    "import matplotlib.pyplot as plt\n",
    "import scipy.stats as sps\n",
    "from tqdm import tqdm"
   ],
   "metadata": {
    "collapsed": false,
    "ExecuteTime": {
     "end_time": "2024-02-19T12:27:54.893128Z",
     "start_time": "2024-02-19T12:27:54.889231Z"
    }
   },
   "id": "834f84a3b9852e06"
  },
  {
   "cell_type": "code",
   "execution_count": 469,
   "outputs": [],
   "source": [
    "V_CUT = 4.8\n",
    "N_V = 20\n",
    "T_1 = 1\n",
    "T_2 = 2\n",
    "X_MAX = 25\n",
    "Y_MAX = 20\n",
    "CHIP_X = 10\n",
    "CHIP_DY = 1\n",
    "CHIP_DX = 5\n",
    "U = 0.01\n",
    "N_X = 100\n",
    "N_Y = 100\n",
    "\n",
    "H_X = X_MAX / N_X\n",
    "H_Y = Y_MAX / N_Y\n",
    "\n",
    "TAU = min(H_X, H_Y) / (2*V_CUT)"
   ],
   "metadata": {
    "collapsed": false,
    "ExecuteTime": {
     "end_time": "2024-02-19T12:27:55.458634Z",
     "start_time": "2024-02-19T12:27:55.456732Z"
    }
   },
   "id": "ffce78cc1122b472"
  },
  {
   "cell_type": "code",
   "execution_count": 470,
   "outputs": [],
   "source": [
    "class CollisionsGrid:\n",
    "    def __init__(self, num_col=10000, v_cut=V_CUT):\n",
    "        self.v_cut = v_cut\n",
    "        self.num_col = num_col\n",
    "        \n",
    "        self.col_grid = self.set_col_grid()\n",
    "        self.teta = 2 * np.arccos(self.col_grid[:, 6])\n",
    "        self.ksi_update, self.ksi1_update = self.create_updated_velocities()\n",
    "        \n",
    "        assert np.all(((self.ksi_update**2).sum(axis=1) + \n",
    "                       (self.ksi1_update**2).sum(axis=1) - \n",
    "                       (self.col_grid[:, :6]**2).sum(axis=1)) < 10**(-9))\n",
    "    \n",
    "    def set_col_grid(self) -> np.ndarray:\n",
    "        \"\"\"\n",
    "        function that create initial grid with 2 velocities, b and eps paameters\n",
    "        :return: col_grid (num_col, 8)\n",
    "        \"\"\"\n",
    "        grid = sps.uniform.rvs(size=(self.num_col, 8))\n",
    "        grid[:, :6] = 2 * self.v_cut * grid[:, :6] - self.v_cut\n",
    "        grid[:, 7] *= 2 * np.pi\n",
    "        return grid\n",
    "    \n",
    "    def create_updated_velocities(self) -> (np.ndarray, np.ndarray):\n",
    "        \"\"\"\n",
    "        Creating new velocities after collision\n",
    "        :return: ksi_update, ksi1_update - two np.ndarray (num_col, 3)\n",
    "        \"\"\"\n",
    "        g = self.col_grid[:, 3:6] - self.col_grid[:, :3]\n",
    "        \n",
    "        #g_1 = np.zeros_like(g)\n",
    "        \n",
    "        # Обновление массива g по формулам 1.12:\n",
    "        indexes_0 = (g[:, 0] == 0) & (g[:, 1] == 0)\n",
    "        indexes_1 = (g[:, 0] != 0) | (g[:, 1] != 0)\n",
    "        g[indexes_0] = self.update_g_typeb(g[indexes_0], indexes_0)\n",
    "        g[indexes_1] = self.update_g_typea(g[indexes_1], indexes_1)\n",
    "                \n",
    "        ksi_update = (self.col_grid[:, 3:6] + self.col_grid[:, :3] - g) / 2\n",
    "        ksi1_update = (self.col_grid[:, 3:6] + self.col_grid[:, :3] + g) / 2\n",
    "        \n",
    "        return ksi_update, ksi1_update\n",
    "    \n",
    "    def update_g_typea(self, g: np.ndarray, indexes: np.ndarray) -> np.ndarray:\n",
    "        \"\"\"\n",
    "        Updating relative velocities in regular case\n",
    "        :param g: np.ndarray (sum(indexes), 3) - relative velocities\n",
    "        :param indexes: np.ndarray - (num_col,) - bool matrix with regular cases\n",
    "        :return: updated g - np.ndarray (sum(indexes), 3)\n",
    "        \"\"\"\n",
    "        g_abs = np.sqrt((g**2).sum(axis=1))\n",
    "        g_xy = np.sqrt((g[:, :2]**2).sum(axis=1))\n",
    "        teta = self.teta[indexes]\n",
    "        eps = self.col_grid[:, 7]\n",
    "        \n",
    "        g_1 = np.zeros_like(g)\n",
    "        \n",
    "        g_1[:, 0] = (g[:, 0]*np.cos(teta) - g[:, 0]*g[:, 2]*np.cos(eps)*np.sin(teta)/g_xy + \n",
    "                   g_abs*g[:, 1]*np.sin(teta)*np.sin(eps)/g_xy) \n",
    "        g_1[:, 1] = (g[:, 1]*np.cos(teta) - g[:, 1]*g[:, 2]*np.cos(eps)*np.sin(teta)/g_xy - \n",
    "                   g_abs*g[:, 0]*np.sin(teta)*np.sin(eps)/g_xy)\n",
    "        g_1[:, 2] = g[:, 2]*np.cos(teta) + g_xy*np.cos(eps)*np.sin(teta)\n",
    "        \n",
    "        return g_1\n",
    "    \n",
    "    def update_g_typeb(self, g, indexes):\n",
    "        \"\"\"\n",
    "        Updating relative velocities in irregular case\n",
    "        :param g: np.ndarray (sum(indexes), 3) - relative velocities\n",
    "        :param indexes: np.ndarray - (num_col,) - bool matrix with irregular cases\n",
    "        :return: updated g - np.ndarray (sum(indexes), 3)\n",
    "        \"\"\"\n",
    "        g_abs = (g**2).sum(axis=1)\n",
    "        teta = self.teta[indexes]\n",
    "        \n",
    "        g_1 = np.zeros_like(g)\n",
    "        \n",
    "        g_1[:, 0] = g_abs * np.sin(self.col_grid[indexes, 7]) * np.sin(teta)\n",
    "        g_1[:, 1] = g_abs * np.cos(self.col_grid[indexes, 7]) * np.sin(teta)\n",
    "        g_1[:, 2] = g_abs * np.cos(teta)\n",
    "        return g_1"
   ],
   "metadata": {
    "collapsed": false,
    "ExecuteTime": {
     "end_time": "2024-02-19T12:27:55.801310Z",
     "start_time": "2024-02-19T12:27:55.799157Z"
    }
   },
   "id": "9acced16622c2c48"
  },
  {
   "cell_type": "code",
   "execution_count": 472,
   "outputs": [],
   "source": [
    "class SimpleF:\n",
    "    def __init__(self, v_cut=V_CUT, n_v = N_V):\n",
    "        self.v_cut = v_cut\n",
    "        self.v_1 = np.linspace(-self.v_cut, self.v_cut, n_v)\n",
    "        \n",
    "        self.v_grid = np.array(np.meshgrid(self.v_1, self.v_1, self.v_1)).T\n",
    "        \n",
    "        self.f = self.set_initial_data()\n",
    "    \n",
    "    def set_initial_data(self):\n",
    "        net = np.ones((N_X, N_Y)).reshape(N_X, N_Y, 1, 1, 1)\n",
    "\n",
    "        f_v_1 = np.exp(-((self.v_grid-U)**2).sum(axis=3)/(2*T_1))\n",
    "        f = net * f_v_1 / f_v_1.sum()\n",
    "        \n",
    "        f[N_X*CHIP_X//X_MAX:N_X*(CHIP_X+CHIP_DX)//X_MAX, :N_Y*CHIP_DY//Y_MAX, :, :, :] = 0  # Чип\n",
    "        \n",
    "        f_v_2 = np.exp(-((self.v_grid-U)**2).sum(axis=3)/(2*T_2))\n",
    "        f[N_X*CHIP_X//X_MAX-1, :N_Y*CHIP_DY//Y_MAX, :, :, :] = f_v_2 / f_v_2.sum()\n",
    "        f[N_X*(CHIP_X+CHIP_DX)//X_MAX, :N_Y*CHIP_DY//Y_MAX, :, :, :] = f_v_2 / f_v_2.sum()\n",
    "        f[N_X*CHIP_X//X_MAX:N_X*(CHIP_X+CHIP_DX)//X_MAX, N_Y*CHIP_DY//Y_MAX, :, :, :] = f_v_2 / f_v_2.sum()\n",
    "        \n",
    "        return f\n",
    "    \n",
    "    def update_data(self, new_data):\n",
    "        self.f = new_data\n",
    "    \n",
    "    def show_state(self, name=\"n\"):\n",
    "        x_grid = np.linspace(0, X_MAX, N_X)\n",
    "        y_grid = np.linspace(0, Y_MAX, N_Y)\n",
    "        if name == \"T\":\n",
    "            n = self.f.sum(axis=(2, 3, 4))\n",
    "            content = (self.f * (self.v_grid**2).sum(axis=3)).sum(axis=(2, 3, 4)) / (3 * n)\n",
    "        else:\n",
    "            content = self.f.sum(axis=(2, 3, 4))\n",
    "        plt.contourf(x_grid, y_grid, content.T, extend='both')\n",
    "        #print(content[0, 0], content[50, 25])\n",
    "        return content\n",
    "    \n",
    "    def compute_n(self, x_start, x_stop, y_start, y_stop):\n",
    "        return self.f.sum(axis=(2, 3, 4))[x_start:x_stop, y_start:y_stop]\n",
    "    \n",
    "    def compute_T(self, x_start, x_stop, y_start, y_stop):\n",
    "        n = self.f.sum(axis=(2, 3, 4))[x_start:x_stop, y_start:y_stop]\n",
    "        return ((self.f * (self.v_grid**2).sum(axis=3)).sum(axis=(2, 3, 4)) / 3)[x_start:x_stop, y_start:y_stop] / n\n",
    "    \n",
    "    def compute_q(self, x, y):\n",
    "        pass\n",
    "    \n",
    "    def compute_v(self, x, y):\n",
    "        pass"
   ],
   "metadata": {
    "collapsed": false,
    "ExecuteTime": {
     "end_time": "2024-02-19T12:27:57.217508Z",
     "start_time": "2024-02-19T12:27:57.211122Z"
    }
   },
   "id": "90a04e09c05fdf84"
  },
  {
   "cell_type": "code",
   "execution_count": 440,
   "outputs": [],
   "source": [
    "class SimpleIdealSolver:\n",
    "    def __init__(self, tau=TAU):\n",
    "        self.tau = tau\n",
    "        self.f = SimpleF()\n",
    "    \n",
    "    def make_timestep(self, t):\n",
    "        ihalf = int(N_V/2)\n",
    "        \n",
    "        # k > 0\n",
    "        delta_x_left = self.f.f[1:, :, ihalf:, :, :] - self.f.f[:-1, :, ihalf:, :, :]\n",
    "        k_x_left = (self.f.v_1[ihalf:]*self.tau/H_X).reshape(1, 1, -1, 1, 1)\n",
    "        if t % 2 == 0:\n",
    "            delta_y_left = self.f.f[:, 1:, :, ihalf:, :] - self.f.f[:, :-1, :, ihalf:, :]\n",
    "            k_y_left = (self.f.v_1[ihalf:]*self.tau/H_Y).reshape(1, 1, 1, -1, 1)\n",
    "        \n",
    "        # k < 0\n",
    "        delta_x_right = self.f.f[1:, :, :ihalf, :, :] - self.f.f[:-1, :, :ihalf, :, :]\n",
    "        k_x_right = (self.f.v_1[:ihalf]*self.tau/H_X).reshape(1, 1, -1, 1, 1)\n",
    "        if t % 2 == 0:\n",
    "            delta_y_right = self.f.f[:, 1:, :, :ihalf, :] - self.f.f[:, :-1, :, :ihalf, :]\n",
    "            k_y_right = (self.f.v_1[:ihalf]*self.tau/H_Y).reshape(1, 1, 1, -1, 1)\n",
    "        \n",
    "        new_f = np.copy(self.f.f)\n",
    "        \n",
    "        \n",
    "        new_f[1:, :, ihalf:, :, :] -= k_x_left*delta_x_left\n",
    "        new_f[:-1, :, :ihalf, :, :] -= k_x_right*delta_x_right\n",
    "        \n",
    "        if t % 2 == 0:\n",
    "            new_f[:, 1:, :, ihalf:, :] -= k_y_left*delta_y_left\n",
    "            new_f[:, :-1, :, :ihalf, :] -= k_y_right*delta_y_right\n",
    "        \n",
    "        #Границы:\n",
    "        #Чип:\n",
    "        icxl, icxr = N_X*CHIP_X//X_MAX, N_X*(CHIP_X+CHIP_DX)//X_MAX\n",
    "        icy = N_Y*CHIP_DY//Y_MAX\n",
    "        new_f[icxl:icxr, :icy, :, :, :] = 0\n",
    "        \n",
    "        \n",
    "        f_v_2 = np.exp(-(self.f.v_grid**2).sum(axis=3)/(2*T_2))\n",
    "        v_abs = np.abs(self.f.v_1)\n",
    "        \n",
    "        # Левая граница:\n",
    "        nom_h = (v_abs[ihalf:].reshape(1, -1, 1, 1)*self.f.f[icxl-1, :icy+1, ihalf:, :, :]).sum(axis=1)\n",
    "        denom_h = (v_abs[:ihalf].reshape(-1, 1, 1)*f_v_2[:ihalf, :, :]).sum(axis=0)\n",
    "        new_f[icxl-1, :icy+1, :ihalf, :, :] = (f_v_2[:ihalf, :, :] * nom_h.reshape(-1, 1, N_V, N_V) / denom_h)\n",
    "        #print(self.f.compute_T(icxl-1, icxl, 0, icy))\n",
    "        \n",
    "        # Правая граница:\n",
    "        nom_h = (v_abs[:ihalf].reshape(1, -1, 1, 1)*self.f.f[icxr, :icy+1, :ihalf, :, :]).sum(axis=1)\n",
    "        #denom_h = (v_abs[ihalf:].reshape(-1, 1, 1)*f_v_2[ihalf:, :, :]).sum(axis=0)\n",
    "        new_f[icxr, :icy+1, ihalf:, :, :] = f_v_2[ihalf:, :, :] * nom_h.reshape(-1, 1, N_V, N_V) / denom_h\n",
    "        #print(self.f.compute_T(icxr, icxr+1, 0, icy))\n",
    "        \n",
    "        # Крышка\n",
    "        #print(self.f.f[icxl:icxr, icy, :, :ihalf, :].shape)\n",
    "        nom_h = (v_abs[:ihalf].reshape(1, 1, -1, 1)*self.f.f[icxl-1:icxr+1, icy, :, :ihalf, :]).sum(axis=2)\n",
    "        #print(nom_h.shape)\n",
    "        #denom_h = (v_abs[ihalf:].reshape(1, -1, 1)*f_v_2[:, ihalf:, :]).sum(axis=1)\n",
    "        new_f[icxl-1:icxr+1, icy, :, ihalf:, :] = f_v_2[:, ihalf:, :] * nom_h.reshape(-1, N_V, 1, N_V) / denom_h.reshape(N_V, 1, N_V)\n",
    "        \n",
    "        # Стенки:\n",
    "        f_v_2 = np.exp(-(self.f.v_grid**2).sum(axis=3)/(2*T_1))\n",
    "        # Верхняя стенка:\n",
    "        nom_h = (v_abs[ihalf:].reshape(1, 1, -1, 1)*self.f.f[:, N_Y-1, :, ihalf:, :]).sum(axis=2)\n",
    "        denom_h = (v_abs[:ihalf].reshape(1, -1, 1)*f_v_2[:, :ihalf, :]).sum(axis=1)\n",
    "        new_f[:, N_Y-1, :, :ihalf, :] = (f_v_2[:, :ihalf, :] * nom_h.reshape(-1, N_V, 1, N_V) / denom_h.reshape(N_V, 1, N_V))\n",
    "        \n",
    "        # Нижняя стенка:\n",
    "        nom_h = (v_abs[:ihalf].reshape(1, 1, -1, 1)*self.f.f[:, 0, :, :ihalf, :]).sum(axis=2)\n",
    "        denom_h = (v_abs[ihalf:].reshape(1, -1, 1)*f_v_2[:, ihalf:, :]).sum(axis=1)\n",
    "        new_f[:, 0, :, ihalf:, :] = f_v_2[:, ihalf:, :] * nom_h.reshape(-1, N_V, 1, N_V) / denom_h.reshape(N_V, 1, N_V)\n",
    "        \n",
    "        # Входы:\n",
    "        f_v_2 = np.exp(-((self.f.v_grid-U)**2).sum(axis=3)/(2*T_1))\n",
    "        new_f[0, :, :, :, :] = f_v_2 / f_v_2.sum()\n",
    "        new_f[N_X-1, :, :, :, :] = f_v_2 / f_v_2.sum()\n",
    "        \n",
    "        self.f.update_data(new_f)\n",
    "    \n",
    "    def solve(self, nsteps=10, name=\"n\"):\n",
    "        icxl, icxr = N_X*CHIP_X//X_MAX, N_X*(CHIP_X+CHIP_DX)//X_MAX\n",
    "        icy = N_Y*CHIP_DY//Y_MAX\n",
    "        #print(self.f.compute_T(icxl-1, icxl, 0, icy))\n",
    "        for t in tqdm(range(nsteps)):\n",
    "            self.make_timestep(t)\n",
    "            self.f.show_state(name)\n",
    "    "
   ],
   "metadata": {
    "collapsed": false,
    "ExecuteTime": {
     "end_time": "2024-02-18T21:01:19.328625Z",
     "start_time": "2024-02-18T21:01:19.326265Z"
    }
   },
   "id": "3c91b6b680212a9f"
  },
  {
   "cell_type": "code",
   "execution_count": 463,
   "outputs": [
    {
     "name": "stderr",
     "output_type": "stream",
     "text": [
      "  0%|          | 0/50 [00:00<?, ?it/s]/var/folders/j4/hzzk71yx5n14s5jzcccjgr2m0000gn/T/ipykernel_63526/660549609.py:33: RuntimeWarning: invalid value encountered in divide\n",
      "  content = (self.f * (self.v_grid**2).sum(axis=3)).sum(axis=(2, 3, 4)) / (3 * n)\n",
      "100%|██████████| 50/50 [00:36<00:00,  1.36it/s]\n"
     ]
    },
    {
     "data": {
      "text/plain": "<Figure size 640x480 with 1 Axes>",
      "image/png": "[encoded data removed]"
     },
     "metadata": {},
     "output_type": "display_data"
    }
   ],
   "source": [
    "solver_1 = SimpleIdealSolver()\n",
    "solver_1.solve(50, name=\"T\")"
   ],
   "metadata": {
    "collapsed": false,
    "ExecuteTime": {
     "end_time": "2024-02-18T21:23:45.031368Z",
     "start_time": "2024-02-18T21:23:08.129359Z"
    }
   },
   "id": "fba408dfdad7e123"
  },
  {
   "cell_type": "code",
   "execution_count": 464,
   "outputs": [
    {
     "name": "stderr",
     "output_type": "stream",
     "text": [
      "  0%|          | 0/100 [00:00<?, ?it/s]/var/folders/j4/hzzk71yx5n14s5jzcccjgr2m0000gn/T/ipykernel_63526/660549609.py:33: RuntimeWarning: invalid value encountered in divide\n",
      "  content = (self.f * (self.v_grid**2).sum(axis=3)).sum(axis=(2, 3, 4)) / (3 * n)\n",
      "100%|██████████| 100/100 [01:13<00:00,  1.37it/s]\n"
     ]
    },
    {
     "data": {
      "text/plain": "<Figure size 640x480 with 1 Axes>",
      "image/png": "[encoded data removed]"
     },
     "metadata": {},
     "output_type": "display_data"
    }
   ],
   "source": [
    "solver_1.solve(100, name=\"T\")"
   ],
   "metadata": {
    "collapsed": false,
    "ExecuteTime": {
     "end_time": "2024-02-18T21:25:02.898535Z",
     "start_time": "2024-02-18T21:23:49.772759Z"
    }
   },
   "id": "d37207b517f1d074"
  },
  {
   "cell_type": "code",
   "execution_count": 466,
   "outputs": [
    {
     "name": "stdout",
     "output_type": "stream",
     "text": [
      "[[1.00009088]\n",
      " [0.99872063]\n",
      " [0.99848711]\n",
      " [0.99832499]\n",
      " [0.99821221]\n",
      " [0.99813515]\n",
      " [0.99808364]\n",
      " [0.99805011]\n",
      " [0.99802894]\n",
      " [0.99801616]\n",
      " [0.99800919]\n",
      " [0.99800669]\n",
      " [0.99800871]\n",
      " [0.99801703]\n",
      " [0.99803601]\n",
      " [0.99807414]\n",
      " [0.99814644]\n",
      " [0.99827788]\n",
      " [0.99850809]\n",
      " [0.99889704]\n",
      " [0.99953133]\n",
      " [1.00052994]\n",
      " [1.00204782]\n",
      " [1.00427472]\n",
      " [1.00742607]\n",
      " [1.01172239]\n",
      " [1.01735428]\n",
      " [1.02443284]\n",
      " [1.03293048]\n",
      " [1.04262567]\n",
      " [1.05307517]\n",
      " [1.06364409]\n",
      " [1.0736219 ]\n",
      " [1.0824309 ]\n",
      " [1.0898828 ]\n",
      " [1.09639935]\n",
      " [1.10331399]\n",
      " [1.11372112]\n",
      " [1.13132291]\n",
      " [1.19530962]\n",
      " [       nan]\n",
      " [       nan]\n",
      " [       nan]\n",
      " [       nan]\n",
      " [       nan]\n",
      " [       nan]\n",
      " [       nan]\n",
      " [       nan]\n",
      " [       nan]\n",
      " [       nan]\n",
      " [       nan]\n",
      " [       nan]\n",
      " [       nan]\n",
      " [       nan]\n",
      " [       nan]\n",
      " [       nan]\n",
      " [       nan]\n",
      " [       nan]\n",
      " [       nan]\n",
      " [       nan]\n",
      " [1.19219051]\n",
      " [1.12663416]\n",
      " [1.10833523]\n",
      " [1.09778661]\n",
      " [1.09110557]\n",
      " [1.08507482]\n",
      " [1.07826339]\n",
      " [1.07016069]\n",
      " [1.06088133]\n",
      " [1.05095016]\n",
      " [1.04104687]\n",
      " [1.03179493]\n",
      " [1.02364064]\n",
      " [1.01681736]\n",
      " [1.01136847]\n",
      " [1.00719904]\n",
      " [1.00413296]\n",
      " [1.00196169]\n",
      " [1.00047905]\n",
      " [0.99950211]\n",
      " [0.99888075]\n",
      " [0.99849928]\n",
      " [0.99827326]\n",
      " [0.99814408]\n",
      " [0.99807297]\n",
      " [0.99803541]\n",
      " [0.99801668]\n",
      " [0.99800843]\n",
      " [0.99800633]\n",
      " [0.99800862]\n",
      " [0.99801523]\n",
      " [0.99802741]\n",
      " [0.99804766]\n",
      " [0.99807982]\n",
      " [0.99812933]\n",
      " [0.99820359]\n",
      " [0.99831256]\n",
      " [0.9984697 ]\n",
      " [0.99869706]\n",
      " [1.00009088]]\n"
     ]
    },
    {
     "name": "stderr",
     "output_type": "stream",
     "text": [
      "/var/folders/j4/hzzk71yx5n14s5jzcccjgr2m0000gn/T/ipykernel_63526/660549609.py:45: RuntimeWarning: invalid value encountered in divide\n",
      "  return ((self.f * (self.v_grid**2).sum(axis=3)).sum(axis=(2, 3, 4)) / 3)[x_start:x_stop, y_start:y_stop] / n\n"
     ]
    }
   ],
   "source": [
    "print(solver_1.f.compute_T(0, 100, 2, 3))"
   ],
   "metadata": {
    "collapsed": false,
    "ExecuteTime": {
     "end_time": "2024-02-18T21:25:26.728374Z",
     "start_time": "2024-02-18T21:25:26.590172Z"
    }
   },
   "id": "49e3bd5e7713c947"
  },
  {
   "cell_type": "code",
   "execution_count": 419,
   "outputs": [
    {
     "name": "stdout",
     "output_type": "stream",
     "text": [
      "[[       nan]\n",
      " [       nan]\n",
      " [1.17285358]\n",
      " [1.11518499]\n",
      " [1.09485524]\n",
      " [1.083276  ]\n",
      " [1.07596188]\n",
      " [1.06997928]\n",
      " [1.06388305]\n",
      " [1.05699637]\n",
      " [1.04923422]\n",
      " [1.04094196]\n",
      " [1.03266841]\n",
      " [1.02496067]\n",
      " [1.01823085]\n",
      " [1.01270231]\n",
      " [1.00841813]\n",
      " [1.00528458]\n",
      " [1.003125  ]\n",
      " [1.00172833]\n",
      " [1.00088589]\n",
      " [1.00041561]\n",
      " [1.00017466]\n",
      " [1.00006212]\n",
      " [1.0000139 ]\n",
      " [0.99999338]\n",
      " [0.99998116]\n",
      " [0.9999666 ]\n",
      " [0.99994208]\n",
      " [0.9998997 ]\n",
      " [0.99983003]\n",
      " [0.99972249]\n",
      " [0.99956734]\n",
      " [0.99935932]\n",
      " [0.99910241]\n",
      " [0.99881463]\n",
      " [0.99853046]\n",
      " [0.99829829]\n",
      " [0.99817046]\n",
      " [0.99818833]\n",
      " [0.99837375]\n",
      " [1.00009088]]\n"
     ]
    },
    {
     "name": "stderr",
     "output_type": "stream",
     "text": [
      "/var/folders/j4/hzzk71yx5n14s5jzcccjgr2m0000gn/T/ipykernel_63526/2668441589.py:45: RuntimeWarning: invalid value encountered in divide\n",
      "  return ((self.f * (self.v_grid**2).sum(axis=3)).sum(axis=(2, 3, 4)) / 3)[x_start:x_stop, y_start:y_stop] / n\n"
     ]
    }
   ],
   "source": [
    "print(solver_1.f.compute_T(58, 100, 3, 4))"
   ],
   "metadata": {
    "collapsed": false,
    "ExecuteTime": {
     "end_time": "2024-02-18T20:01:46.083343Z",
     "start_time": "2024-02-18T20:01:45.960004Z"
    }
   },
   "id": "82cfbf41d3b02dcc"
  },
  {
   "cell_type": "code",
   "execution_count": 407,
   "outputs": [
    {
     "name": "stdout",
     "output_type": "stream",
     "text": [
      "[[       nan 1.44649925 1.25498855 1.23766025 1.20641485 1.16402105\n",
      "  1.11844396 1.07773253 1.04648141 1.02539831 1.0127045  1.00581746\n",
      "  1.00243338 1.00092507 1.00031577 1.00009321 1.00001995]]\n"
     ]
    },
    {
     "name": "stderr",
     "output_type": "stream",
     "text": [
      "/var/folders/j4/hzzk71yx5n14s5jzcccjgr2m0000gn/T/ipykernel_63526/2668441589.py:45: RuntimeWarning: invalid value encountered in divide\n",
      "  return ((self.f * (self.v_grid**2).sum(axis=3)).sum(axis=(2, 3, 4)) / 3)[x_start:x_stop, y_start:y_stop] / n\n"
     ]
    }
   ],
   "source": [
    "print(solver_1.f.compute_T(55, 56, 3, 20))"
   ],
   "metadata": {
    "collapsed": false,
    "ExecuteTime": {
     "end_time": "2024-02-18T19:57:02.631742Z",
     "start_time": "2024-02-18T19:57:02.501743Z"
    }
   },
   "id": "95b1f346bd041447"
  },
  {
   "cell_type": "code",
   "execution_count": 367,
   "outputs": [
    {
     "name": "stdout",
     "output_type": "stream",
     "text": [
      "[[1.05248548]\n",
      " [1.08365896]\n",
      " [1.11041723]\n",
      " [1.10326008]\n",
      " [1.04189436]\n",
      " [0.        ]\n",
      " [0.        ]\n",
      " [0.        ]\n",
      " [0.        ]\n",
      " [0.        ]]\n"
     ]
    }
   ],
   "source": [
    "print(solver_1.f.compute_T(35, 45, 3, 4))"
   ],
   "metadata": {
    "collapsed": false,
    "ExecuteTime": {
     "end_time": "2024-02-18T19:38:19.521226Z",
     "start_time": "2024-02-18T19:38:19.424478Z"
    }
   },
   "id": "5a9196e5d9511fc8"
  },
  {
   "cell_type": "code",
   "execution_count": 368,
   "outputs": [
    {
     "name": "stdout",
     "output_type": "stream",
     "text": [
      "[[1.07473261 1.06633599 1.05918888 1.05248548 1.03610855 1.01791897\n",
      "  1.01073298 1.00587775 1.00293347 1.00133737 1.00055721 1.00021051\n",
      "  1.00006958 1.00001697 0.99999889 0.99999316 0.99999149 0.99999103\n",
      "  0.99999092 0.9999909 ]]\n"
     ]
    }
   ],
   "source": [
    "print(solver_1.f.compute_T(35, 36, 0, 20))"
   ],
   "metadata": {
    "collapsed": false,
    "ExecuteTime": {
     "end_time": "2024-02-18T19:38:19.612686Z",
     "start_time": "2024-02-18T19:38:19.518961Z"
    }
   },
   "id": "a9b62fa6ef3072a8"
  },
  {
   "cell_type": "code",
   "execution_count": null,
   "outputs": [],
   "source": [],
   "metadata": {
    "collapsed": false
   },
   "id": "3571f63c4497fabf"
  }
 ],
 "metadata": {
  "kernelspec": {
   "display_name": "Python 3",
   "language": "python",
   "name": "python3"
  },
  "language_info": {
   "codemirror_mode": {
    "name": "ipython",
    "version": 2
   },
   "file_extension": ".py",
   "mimetype": "text/x-python",
   "name": "python",
   "nbconvert_exporter": "python",
   "pygments_lexer": "ipython2",
   "version": "2.7.6"
  }
 },
 "nbformat": 4,
 "nbformat_minor": 5
}
